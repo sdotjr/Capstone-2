{
 "cells": [
  {
   "cell_type": "markdown",
   "metadata": {},
   "source": [
    "# Build Rap Database (top 50 songs from 100+ artists)"
   ]
  },
  {
   "cell_type": "code",
   "execution_count": null,
   "metadata": {},
   "outputs": [],
   "source": [
    "import lyricsgenius\n",
    "import billboard\n",
    "import pandas as pd"
   ]
  },
  {
   "cell_type": "code",
   "execution_count": null,
   "metadata": {},
   "outputs": [],
   "source": [
    "#database of most popular rap artists\n",
    "rappers = ['Kanye West',\n",
    " 'Lil Wayne',\n",
    " 'Jay Z',\n",
    " 'Rick Ross',\n",
    " 'Kendrick Lamar',\n",
    " 'Eminem',\n",
    " 'Drake',\n",
    " 'T.I.',\n",
    " '2 Chainz',\n",
    " 'The Game',\n",
    " 'Chance the Rapper',\n",
    " 'André 3000',\n",
    " 'Nicki Minaj',\n",
    " 'Nas',\n",
    " 'Travis Scott',\n",
    " 'Snoop Dogg',\n",
    " 'Young Thug',\n",
    " 'Young Jeezy',\n",
    " '50 Cent',\n",
    " 'Big Sean',\n",
    " 'Future',\n",
    " 'Gucci Mane',\n",
    " 'Meek Mill',\n",
    " 'Lupe Fiasco',\n",
    " 'YG',\n",
    " 'Fabolous',\n",
    " 'Waka Flocka Flame',\n",
    " 'ASAP Rocky',\n",
    " 'Common',\n",
    " 'B.o.B',\n",
    " 'Wiz Khalifa',\n",
    " 'Lil Uzi Vert',\n",
    " 'Jim Jones',\n",
    " 'Soulja Boy',\n",
    " 'Lauryn Hill',\n",
    " 'Ice Cube',\n",
    " 'Twista',\n",
    " 'Camron',\n",
    " 'Scarface',\n",
    " 'UGK',\n",
    " 'Rakim',\n",
    " 'LL Cool J',\n",
    " 'Busta Rhymes',\n",
    " 'Big Daddy Kane',\n",
    " 'Childish Gambino',\n",
    " 'Big Pun',\n",
    " 'Post Malone',\n",
    " '6ix9ine',\n",
    " 'Kodak Black',\n",
    " 'Migos',\n",
    " 'Trippie Redd',\n",
    " 'Rae Sremmurd',\n",
    " 'Jay Electronica',\n",
    " 'Kool G Rap',\n",
    " 'Redman',\n",
    " 'Ghostface Killah',\n",
    " 'Mobb Deep',\n",
    " 'Method Man',\n",
    " 'Diddy',\n",
    " 'The Roots',\n",
    " 'Big L',\n",
    " 'XXXtentacion',\n",
    " 'Mac Miller',\n",
    " 'MF Doom',\n",
    " 'Run DMC',\n",
    " 'Public Enemy',\n",
    " 'Queen Latifah',\n",
    " 'Fat Joe',\n",
    " 'Kid Cudi',\n",
    " 'Slick Rick',\n",
    " 'DMX',\n",
    " 'Method Man',\n",
    " 'Jadakiss',\n",
    " 'Joe Budden',\n",
    " 'Pusha T',\n",
    " 'Kurupt',\n",
    " 'NWA',\n",
    " \"Royce Da 5'9\",\n",
    " 'Mase',\n",
    " 'Lil Pump',\n",
    " 'Playboy Carti',\n",
    " 'Tech N9ne',\n",
    " 'Machine Gun Kelly',\n",
    " 'G-Eazy',\n",
    " 'Joyner Lucas',\n",
    " 'Lil B',\n",
    " 'Juicy J', \n",
    " 'Bow Wow',\n",
    " 'Chief Keef',\n",
    " 'Dr Dre',\n",
    " 'Fivio Foreign',\n",
    " 'A Boogie wit da Hoodie',\n",
    " 'Ugly God',\n",
    " 'PnB Rock',\n",
    " 'Kyle', \n",
    " 'Ski Mask the Slump God',\n",
    " 'JID',\n",
    " 'Lil Skies',\n",
    " 'YBN Cordae',\n",
    " 'Blueface',\n",
    " 'Gunna',\n",
    " 'Roddy Ricch',\n",
    " 'Jack Harlow', \n",
    " 'Polo G']"
   ]
  },
  {
   "cell_type": "markdown",
   "metadata": {},
   "source": [
    "## Scrape lyrics from lyricsgenius"
   ]
  },
  {
   "cell_type": "code",
   "execution_count": null,
   "metadata": {},
   "outputs": [],
   "source": [
    "genius = lyricsgenius.Genius(\"Nwz-eT6mLmyrhULeSARh_sQosVUocazkiwFdJiZaUfqIoICnUwIlJEzeBc6XpV5N\")"
   ]
  },
  {
   "cell_type": "code",
   "execution_count": null,
   "metadata": {},
   "outputs": [],
   "source": [
    "songs = []\n",
    "\n",
    "for rapper in rappers:\n",
    "    artist = genius.search_artist(rapper, max_songs=50, sort=\"popularity\")\n",
    "    for i in range(len(artist.songs)):\n",
    "        songs.append((artist.songs[i].artist, artist.songs[i].title, artist.songs[i].lyrics))"
   ]
  },
  {
   "cell_type": "code",
   "execution_count": null,
   "metadata": {},
   "outputs": [],
   "source": [
    "#convert to dataframe\n",
    "df = pd.DataFrame.from_records(songs, columns =['Artist', 'Song', 'Lyrics'])"
   ]
  },
  {
   "cell_type": "code",
   "execution_count": null,
   "metadata": {
    "scrolled": true
   },
   "outputs": [],
   "source": [
    "df.drop_duplicates(inplace=True)"
   ]
  },
  {
   "cell_type": "code",
   "execution_count": null,
   "metadata": {
    "scrolled": true
   },
   "outputs": [],
   "source": [
    "#save to csv\n",
    "df.to_csv('db.csv', index=False) "
   ]
  },
  {
   "cell_type": "markdown",
   "metadata": {},
   "source": [
    "# chart data"
   ]
  },
  {
   "cell_type": "code",
   "execution_count": null,
   "metadata": {},
   "outputs": [],
   "source": [
    "for year in range(2014,2021):\n",
    "    chart = billboard.ChartData('hot-rap-songs',year=year)\n",
    "    music = []\n",
    "    for i in range(10):\n",
    "        song = genius.search_song(chart[i].title,chart[i].artist)\n",
    "        music.append((chart[i].title,chart[i].artist,song.lyrics,year))\n",
    "    \n",
    "    df = pd.DataFrame(music)\n",
    "    df.to_csv(f'data/rap{year}.csv')"
   ]
  },
  {
   "cell_type": "code",
   "execution_count": null,
   "metadata": {},
   "outputs": [],
   "source": [
    "chart = billboard.ChartData('hot-rap-songs',year=2014)\n",
    "music = []\n",
    "for i in range(10):\n",
    "song = genius.search_song(chart[i].title,chart[i].artist)\n",
    "music.append((chart[i].title,chart[i].artist,song.lyrics))\n",
    "df = pd.DataFrame(music)\n",
    "df"
   ]
  },
  {
   "cell_type": "code",
   "execution_count": null,
   "metadata": {},
   "outputs": [],
   "source": [
    "print(chart)"
   ]
  },
  {
   "cell_type": "code",
   "execution_count": null,
   "metadata": {},
   "outputs": [],
   "source": [
    "chart[0].title"
   ]
  },
  {
   "cell_type": "code",
   "execution_count": null,
   "metadata": {},
   "outputs": [],
   "source": [
    "for artist in df:\n",
    "    artist = genius.search_artist(artist, max_songs=5, sort=\"popularity\")"
   ]
  },
  {
   "cell_type": "code",
   "execution_count": null,
   "metadata": {},
   "outputs": [],
   "source": [
    "for song in artist.songs:\n",
    "    print(song.lyrics)"
   ]
  },
  {
   "cell_type": "code",
   "execution_count": null,
   "metadata": {},
   "outputs": [],
   "source": [
    "df = pd.read_csv('data/songs.csv')"
   ]
  },
  {
   "cell_type": "code",
   "execution_count": null,
   "metadata": {},
   "outputs": [],
   "source": [
    "df = df[['artist.inverted','track']]\n",
    "df = df.dropna(axis=0)\n",
    "df.reset_index(inplace = True)\n",
    "df.drop('index',axis=1,inplace=True)\n",
    "df"
   ]
  },
  {
   "cell_type": "code",
   "execution_count": null,
   "metadata": {
    "scrolled": true
   },
   "outputs": [],
   "source": [
    "music = []\n",
    "for i in range(len(chart)):\n",
    "    song = genius.search_song(chart[i].title,chart[i].artist)\n",
    "    music.append((chart[i].title,chart[i].artist,song.lyrics))\n",
    "\n",
    "music"
   ]
  },
  {
   "cell_type": "code",
   "execution_count": null,
   "metadata": {},
   "outputs": [],
   "source": [
    "genius.search_song('Mood')"
   ]
  },
  {
   "cell_type": "code",
   "execution_count": null,
   "metadata": {},
   "outputs": [],
   "source": [
    "bboard_thisweek = pd.DataFrame(music)"
   ]
  },
  {
   "cell_type": "code",
   "execution_count": null,
   "metadata": {},
   "outputs": [],
   "source": [
    "bboard_thisweek.to_csv('data/currentmusic.csv')"
   ]
  },
  {
   "cell_type": "code",
   "execution_count": null,
   "metadata": {},
   "outputs": [],
   "source": [
    "music"
   ]
  },
  {
   "cell_type": "code",
   "execution_count": null,
   "metadata": {},
   "outputs": [],
   "source": []
  }
 ],
 "metadata": {
  "kernelspec": {
   "display_name": "Python 3",
   "language": "python",
   "name": "python3"
  },
  "language_info": {
   "codemirror_mode": {
    "name": "ipython",
    "version": 3
   },
   "file_extension": ".py",
   "mimetype": "text/x-python",
   "name": "python",
   "nbconvert_exporter": "python",
   "pygments_lexer": "ipython3",
   "version": "3.7.7"
  }
 },
 "nbformat": 4,
 "nbformat_minor": 4
}
